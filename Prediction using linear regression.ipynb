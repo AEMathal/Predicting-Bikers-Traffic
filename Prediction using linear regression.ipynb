{
 "cells": [
  {
   "cell_type": "markdown",
   "metadata": {},
   "source": [
    "## ***Predicting** number of bikers on a given day using linear regression*\n"
   ]
  },
  {
   "cell_type": "code",
   "execution_count": 1,
   "metadata": {},
   "outputs": [],
   "source": [
    "from IPython.display import clear_output\n",
    "%pip install gdown==4.5\n",
    "clear_output()"
   ]
  },
  {
   "cell_type": "markdown",
   "metadata": {},
   "source": [
    "#### ***Download** the CSV file*"
   ]
  },
  {
   "cell_type": "code",
   "execution_count": 2,
   "metadata": {},
   "outputs": [
    {
     "name": "stdout",
     "output_type": "stream",
     "text": [
      "Downloading...\n",
      "From: https://drive.google.com/uc?id=1_eJU8Y-31_l0oq1sSJT6pROJyo-ufuvD\n",
      "To: /Users/abdullah/Desktop/Abdullah Eid 1116364900/bikers_data.csv\n",
      "100%|█████████████████████████████████████████| 213k/213k [00:00<00:00, 991kB/s]\n"
     ]
    }
   ],
   "source": [
    "!gdown 1_eJU8Y-31_l0oq1sSJT6pROJyo-ufuvD"
   ]
  },
  {
   "cell_type": "markdown",
   "metadata": {},
   "source": [
    "#### ***Import** libaries*"
   ]
  },
  {
   "cell_type": "code",
   "execution_count": 14,
   "metadata": {},
   "outputs": [],
   "source": [
    "import pandas as pd\n",
    "import numpy as np\n",
    "import matplotlib.pyplot as plt"
   ]
  },
  {
   "cell_type": "markdown",
   "metadata": {},
   "source": [
    "#### ***Load** Data and start exploring*"
   ]
  },
  {
   "cell_type": "code",
   "execution_count": 15,
   "metadata": {},
   "outputs": [
    {
     "data": {
      "text/html": [
       "<div>\n",
       "<style scoped>\n",
       "    .dataframe tbody tr th:only-of-type {\n",
       "        vertical-align: middle;\n",
       "    }\n",
       "\n",
       "    .dataframe tbody tr th {\n",
       "        vertical-align: top;\n",
       "    }\n",
       "\n",
       "    .dataframe thead th {\n",
       "        text-align: right;\n",
       "    }\n",
       "</style>\n",
       "<table border=\"1\" class=\"dataframe\">\n",
       "  <thead>\n",
       "    <tr style=\"text-align: right;\">\n",
       "      <th></th>\n",
       "      <th>Date</th>\n",
       "      <th>Number of bikers</th>\n",
       "      <th>Mon</th>\n",
       "      <th>Tue</th>\n",
       "      <th>Wed</th>\n",
       "      <th>Thu</th>\n",
       "      <th>Fri</th>\n",
       "      <th>Sat</th>\n",
       "      <th>Sun</th>\n",
       "      <th>holiday</th>\n",
       "      <th>daylight_hrs</th>\n",
       "      <th>Rainfall (in)</th>\n",
       "      <th>Temp (F)</th>\n",
       "      <th>dry day</th>\n",
       "    </tr>\n",
       "  </thead>\n",
       "  <tbody>\n",
       "    <tr>\n",
       "      <th>0</th>\n",
       "      <td>2012-10-03</td>\n",
       "      <td>14084.0</td>\n",
       "      <td>0.0</td>\n",
       "      <td>0.0</td>\n",
       "      <td>1.0</td>\n",
       "      <td>0.0</td>\n",
       "      <td>0.0</td>\n",
       "      <td>0.0</td>\n",
       "      <td>0.0</td>\n",
       "      <td>0.0</td>\n",
       "      <td>11.277359</td>\n",
       "      <td>0.0</td>\n",
       "      <td>56.0</td>\n",
       "      <td>1</td>\n",
       "    </tr>\n",
       "    <tr>\n",
       "      <th>1</th>\n",
       "      <td>2012-10-04</td>\n",
       "      <td>13900.0</td>\n",
       "      <td>0.0</td>\n",
       "      <td>0.0</td>\n",
       "      <td>0.0</td>\n",
       "      <td>1.0</td>\n",
       "      <td>0.0</td>\n",
       "      <td>0.0</td>\n",
       "      <td>0.0</td>\n",
       "      <td>0.0</td>\n",
       "      <td>11.219142</td>\n",
       "      <td>0.0</td>\n",
       "      <td>56.5</td>\n",
       "      <td>1</td>\n",
       "    </tr>\n",
       "    <tr>\n",
       "      <th>2</th>\n",
       "      <td>2012-10-05</td>\n",
       "      <td>12592.0</td>\n",
       "      <td>0.0</td>\n",
       "      <td>0.0</td>\n",
       "      <td>0.0</td>\n",
       "      <td>0.0</td>\n",
       "      <td>1.0</td>\n",
       "      <td>0.0</td>\n",
       "      <td>0.0</td>\n",
       "      <td>0.0</td>\n",
       "      <td>11.161038</td>\n",
       "      <td>0.0</td>\n",
       "      <td>59.5</td>\n",
       "      <td>1</td>\n",
       "    </tr>\n",
       "    <tr>\n",
       "      <th>3</th>\n",
       "      <td>2012-10-06</td>\n",
       "      <td>8024.0</td>\n",
       "      <td>0.0</td>\n",
       "      <td>0.0</td>\n",
       "      <td>0.0</td>\n",
       "      <td>0.0</td>\n",
       "      <td>0.0</td>\n",
       "      <td>1.0</td>\n",
       "      <td>0.0</td>\n",
       "      <td>0.0</td>\n",
       "      <td>11.103056</td>\n",
       "      <td>0.0</td>\n",
       "      <td>60.5</td>\n",
       "      <td>1</td>\n",
       "    </tr>\n",
       "    <tr>\n",
       "      <th>4</th>\n",
       "      <td>2012-10-07</td>\n",
       "      <td>8568.0</td>\n",
       "      <td>0.0</td>\n",
       "      <td>0.0</td>\n",
       "      <td>0.0</td>\n",
       "      <td>0.0</td>\n",
       "      <td>0.0</td>\n",
       "      <td>0.0</td>\n",
       "      <td>1.0</td>\n",
       "      <td>0.0</td>\n",
       "      <td>11.045208</td>\n",
       "      <td>0.0</td>\n",
       "      <td>60.5</td>\n",
       "      <td>1</td>\n",
       "    </tr>\n",
       "  </tbody>\n",
       "</table>\n",
       "</div>"
      ],
      "text/plain": [
       "         Date  Number of bikers  Mon  Tue  Wed  Thu  Fri  Sat  Sun  holiday  \\\n",
       "0  2012-10-03           14084.0  0.0  0.0  1.0  0.0  0.0  0.0  0.0      0.0   \n",
       "1  2012-10-04           13900.0  0.0  0.0  0.0  1.0  0.0  0.0  0.0      0.0   \n",
       "2  2012-10-05           12592.0  0.0  0.0  0.0  0.0  1.0  0.0  0.0      0.0   \n",
       "3  2012-10-06            8024.0  0.0  0.0  0.0  0.0  0.0  1.0  0.0      0.0   \n",
       "4  2012-10-07            8568.0  0.0  0.0  0.0  0.0  0.0  0.0  1.0      0.0   \n",
       "\n",
       "   daylight_hrs  Rainfall (in)  Temp (F)  dry day  \n",
       "0     11.277359            0.0      56.0        1  \n",
       "1     11.219142            0.0      56.5        1  \n",
       "2     11.161038            0.0      59.5        1  \n",
       "3     11.103056            0.0      60.5        1  \n",
       "4     11.045208            0.0      60.5        1  "
      ]
     },
     "execution_count": 15,
     "metadata": {},
     "output_type": "execute_result"
    }
   ],
   "source": [
    "df = pd.read_csv('bikers_data.csv')\n",
    "df.head()"
   ]
  },
  {
   "cell_type": "markdown",
   "metadata": {},
   "source": [
    "#### ***Drop** the date column*"
   ]
  },
  {
   "cell_type": "code",
   "execution_count": 16,
   "metadata": {},
   "outputs": [],
   "source": [
    "df = df.drop(['Date'], axis=1)"
   ]
  },
  {
   "cell_type": "code",
   "execution_count": 17,
   "metadata": {},
   "outputs": [
    {
     "name": "stdout",
     "output_type": "stream",
     "text": [
      "<class 'pandas.core.frame.DataFrame'>\n",
      "RangeIndex: 2646 entries, 0 to 2645\n",
      "Data columns (total 13 columns):\n",
      " #   Column            Non-Null Count  Dtype  \n",
      "---  ------            --------------  -----  \n",
      " 0   Number of bikers  2646 non-null   float64\n",
      " 1   Mon               2646 non-null   float64\n",
      " 2   Tue               2646 non-null   float64\n",
      " 3   Wed               2646 non-null   float64\n",
      " 4   Thu               2646 non-null   float64\n",
      " 5   Fri               2646 non-null   float64\n",
      " 6   Sat               2646 non-null   float64\n",
      " 7   Sun               2646 non-null   float64\n",
      " 8   holiday           2646 non-null   float64\n",
      " 9   daylight_hrs      2646 non-null   float64\n",
      " 10  Rainfall (in)     2646 non-null   float64\n",
      " 11  Temp (F)          2646 non-null   float64\n",
      " 12  dry day           2646 non-null   int64  \n",
      "dtypes: float64(12), int64(1)\n",
      "memory usage: 268.9 KB\n"
     ]
    }
   ],
   "source": [
    "df.info()"
   ]
  },
  {
   "cell_type": "markdown",
   "metadata": {},
   "source": [
    "#### ***Feature** engineering*"
   ]
  },
  {
   "cell_type": "code",
   "execution_count": 18,
   "metadata": {},
   "outputs": [
    {
     "data": {
      "text/html": [
       "<div>\n",
       "<style scoped>\n",
       "    .dataframe tbody tr th:only-of-type {\n",
       "        vertical-align: middle;\n",
       "    }\n",
       "\n",
       "    .dataframe tbody tr th {\n",
       "        vertical-align: top;\n",
       "    }\n",
       "\n",
       "    .dataframe thead th {\n",
       "        text-align: right;\n",
       "    }\n",
       "</style>\n",
       "<table border=\"1\" class=\"dataframe\">\n",
       "  <thead>\n",
       "    <tr style=\"text-align: right;\">\n",
       "      <th></th>\n",
       "      <th>Number of bikers</th>\n",
       "      <th>Mon</th>\n",
       "      <th>Tue</th>\n",
       "      <th>Wed</th>\n",
       "      <th>Thu</th>\n",
       "      <th>Fri</th>\n",
       "      <th>Sat</th>\n",
       "      <th>Sun</th>\n",
       "      <th>holiday</th>\n",
       "      <th>daylight_hrs</th>\n",
       "      <th>Rainfall (in)</th>\n",
       "      <th>Temp (F)</th>\n",
       "      <th>dry day</th>\n",
       "      <th>daylight_hrs**2</th>\n",
       "      <th>daylight_hrs**3</th>\n",
       "      <th>Rainfall (in)**2</th>\n",
       "      <th>Rainfall (in)**3</th>\n",
       "      <th>Temp (F)**2</th>\n",
       "      <th>Temp (F)**3</th>\n",
       "    </tr>\n",
       "  </thead>\n",
       "  <tbody>\n",
       "    <tr>\n",
       "      <th>0</th>\n",
       "      <td>14084.0</td>\n",
       "      <td>0.0</td>\n",
       "      <td>0.0</td>\n",
       "      <td>1.0</td>\n",
       "      <td>0.0</td>\n",
       "      <td>0.0</td>\n",
       "      <td>0.0</td>\n",
       "      <td>0.0</td>\n",
       "      <td>0.0</td>\n",
       "      <td>11.277359</td>\n",
       "      <td>0.0</td>\n",
       "      <td>56.0</td>\n",
       "      <td>1</td>\n",
       "      <td>127.178831</td>\n",
       "      <td>1434.241368</td>\n",
       "      <td>0.0</td>\n",
       "      <td>0.0</td>\n",
       "      <td>3136.00</td>\n",
       "      <td>175616.000</td>\n",
       "    </tr>\n",
       "    <tr>\n",
       "      <th>1</th>\n",
       "      <td>13900.0</td>\n",
       "      <td>0.0</td>\n",
       "      <td>0.0</td>\n",
       "      <td>0.0</td>\n",
       "      <td>1.0</td>\n",
       "      <td>0.0</td>\n",
       "      <td>0.0</td>\n",
       "      <td>0.0</td>\n",
       "      <td>0.0</td>\n",
       "      <td>11.219142</td>\n",
       "      <td>0.0</td>\n",
       "      <td>56.5</td>\n",
       "      <td>1</td>\n",
       "      <td>125.869138</td>\n",
       "      <td>1412.143683</td>\n",
       "      <td>0.0</td>\n",
       "      <td>0.0</td>\n",
       "      <td>3192.25</td>\n",
       "      <td>180362.125</td>\n",
       "    </tr>\n",
       "    <tr>\n",
       "      <th>2</th>\n",
       "      <td>12592.0</td>\n",
       "      <td>0.0</td>\n",
       "      <td>0.0</td>\n",
       "      <td>0.0</td>\n",
       "      <td>0.0</td>\n",
       "      <td>1.0</td>\n",
       "      <td>0.0</td>\n",
       "      <td>0.0</td>\n",
       "      <td>0.0</td>\n",
       "      <td>11.161038</td>\n",
       "      <td>0.0</td>\n",
       "      <td>59.5</td>\n",
       "      <td>1</td>\n",
       "      <td>124.568758</td>\n",
       "      <td>1390.316584</td>\n",
       "      <td>0.0</td>\n",
       "      <td>0.0</td>\n",
       "      <td>3540.25</td>\n",
       "      <td>210644.875</td>\n",
       "    </tr>\n",
       "    <tr>\n",
       "      <th>3</th>\n",
       "      <td>8024.0</td>\n",
       "      <td>0.0</td>\n",
       "      <td>0.0</td>\n",
       "      <td>0.0</td>\n",
       "      <td>0.0</td>\n",
       "      <td>0.0</td>\n",
       "      <td>1.0</td>\n",
       "      <td>0.0</td>\n",
       "      <td>0.0</td>\n",
       "      <td>11.103056</td>\n",
       "      <td>0.0</td>\n",
       "      <td>60.5</td>\n",
       "      <td>1</td>\n",
       "      <td>123.277863</td>\n",
       "      <td>1368.761077</td>\n",
       "      <td>0.0</td>\n",
       "      <td>0.0</td>\n",
       "      <td>3660.25</td>\n",
       "      <td>221445.125</td>\n",
       "    </tr>\n",
       "    <tr>\n",
       "      <th>4</th>\n",
       "      <td>8568.0</td>\n",
       "      <td>0.0</td>\n",
       "      <td>0.0</td>\n",
       "      <td>0.0</td>\n",
       "      <td>0.0</td>\n",
       "      <td>0.0</td>\n",
       "      <td>0.0</td>\n",
       "      <td>1.0</td>\n",
       "      <td>0.0</td>\n",
       "      <td>11.045208</td>\n",
       "      <td>0.0</td>\n",
       "      <td>60.5</td>\n",
       "      <td>1</td>\n",
       "      <td>121.996624</td>\n",
       "      <td>1347.478113</td>\n",
       "      <td>0.0</td>\n",
       "      <td>0.0</td>\n",
       "      <td>3660.25</td>\n",
       "      <td>221445.125</td>\n",
       "    </tr>\n",
       "  </tbody>\n",
       "</table>\n",
       "</div>"
      ],
      "text/plain": [
       "   Number of bikers  Mon  Tue  Wed  Thu  Fri  Sat  Sun  holiday  daylight_hrs  \\\n",
       "0           14084.0  0.0  0.0  1.0  0.0  0.0  0.0  0.0      0.0     11.277359   \n",
       "1           13900.0  0.0  0.0  0.0  1.0  0.0  0.0  0.0      0.0     11.219142   \n",
       "2           12592.0  0.0  0.0  0.0  0.0  1.0  0.0  0.0      0.0     11.161038   \n",
       "3            8024.0  0.0  0.0  0.0  0.0  0.0  1.0  0.0      0.0     11.103056   \n",
       "4            8568.0  0.0  0.0  0.0  0.0  0.0  0.0  1.0      0.0     11.045208   \n",
       "\n",
       "   Rainfall (in)  Temp (F)  dry day  daylight_hrs**2  daylight_hrs**3  \\\n",
       "0            0.0      56.0        1       127.178831      1434.241368   \n",
       "1            0.0      56.5        1       125.869138      1412.143683   \n",
       "2            0.0      59.5        1       124.568758      1390.316584   \n",
       "3            0.0      60.5        1       123.277863      1368.761077   \n",
       "4            0.0      60.5        1       121.996624      1347.478113   \n",
       "\n",
       "   Rainfall (in)**2  Rainfall (in)**3  Temp (F)**2  Temp (F)**3  \n",
       "0               0.0               0.0      3136.00   175616.000  \n",
       "1               0.0               0.0      3192.25   180362.125  \n",
       "2               0.0               0.0      3540.25   210644.875  \n",
       "3               0.0               0.0      3660.25   221445.125  \n",
       "4               0.0               0.0      3660.25   221445.125  "
      ]
     },
     "execution_count": 18,
     "metadata": {},
     "output_type": "execute_result"
    }
   ],
   "source": [
    "df['daylight_hrs**2'] = df['daylight_hrs'] ** 2\n",
    "df['daylight_hrs**3'] = df['daylight_hrs'] ** 3\n",
    "\n",
    "df['Rainfall (in)**2'] = df['Rainfall (in)'] ** 2\n",
    "df['Rainfall (in)**3'] = df['Rainfall (in)'] ** 3\n",
    "\n",
    "df['Temp (F)**2'] = df['Temp (F)'] ** 2\n",
    "df['Temp (F)**3'] = df['Temp (F)'] ** 3\n",
    "\n",
    "df.head()"
   ]
  },
  {
   "cell_type": "markdown",
   "metadata": {},
   "source": [
    "#### ***Splitting** data frame*"
   ]
  },
  {
   "cell_type": "code",
   "execution_count": 19,
   "metadata": {},
   "outputs": [],
   "source": [
    "# Splitting data and convert it to numpy array\n",
    "# And shuffling data there is many benefits, like avoiding bised order\n",
    "def train_test_splitting(data, train_percentage=0.8):\n",
    "    data = np.array(data)\n",
    "    np.random.shuffle(data)\n",
    "    split_idx = int(train_percentage * len(data))\n",
    "    train_set = data[:split_idx, :]\n",
    "    test_set = data[split_idx: , :]\n",
    "    return train_set, test_set"
   ]
  },
  {
   "cell_type": "code",
   "execution_count": 20,
   "metadata": {},
   "outputs": [],
   "source": [
    "train_set, val_set = train_test_splitting(df) # Call the function"
   ]
  },
  {
   "cell_type": "code",
   "execution_count": 21,
   "metadata": {},
   "outputs": [],
   "source": [
    "X_train = train_set[:,1:] # input features for training set\n",
    "y_train = train_set[:,0] # target column for training set\n",
    "X_val = val_set[:,1:] # input features for validation set\n",
    "y_val = val_set[:,0] # target column for validation set"
   ]
  },
  {
   "cell_type": "markdown",
   "metadata": {},
   "source": [
    "#### ***Normal** equation*"
   ]
  },
  {
   "cell_type": "code",
   "execution_count": 25,
   "metadata": {},
   "outputs": [],
   "source": [
    "W = np.linalg.inv(X_train.T @ X_train) @ (X_train.T @ y_train)  # Weights"
   ]
  },
  {
   "cell_type": "code",
   "execution_count": 26,
   "metadata": {},
   "outputs": [],
   "source": [
    "y_pred = X_val @ W"
   ]
  },
  {
   "cell_type": "markdown",
   "metadata": {},
   "source": [
    "#### ***Visualize** the validation results*"
   ]
  },
  {
   "cell_type": "code",
   "execution_count": 27,
   "metadata": {},
   "outputs": [
    {
     "data": {
      "image/png": "[encoded data removed]",
      "text/plain": [
       "<Figure size 640x480 with 1 Axes>"
      ]
     },
     "metadata": {},
     "output_type": "display_data"
    }
   ],
   "source": [
    "plt.plot(X_val,y_val,'bo', X_val, y_pred, 'ro')\n",
    "plt.show()"
   ]
  },
  {
   "cell_type": "markdown",
   "metadata": {},
   "source": [
    "#### ***Calculate** MSE*"
   ]
  },
  {
   "cell_type": "code",
   "execution_count": 28,
   "metadata": {},
   "outputs": [
    {
     "name": "stdout",
     "output_type": "stream",
     "text": [
      "5423284.477684735\n"
     ]
    }
   ],
   "source": [
    "Loss = np.sum(np.square(y_val - y_pred)) / y_pred.shape[0]\n",
    "print(Loss)"
   ]
  },
  {
   "cell_type": "markdown",
   "metadata": {},
   "source": [
    "#### *Anthor solution by using **Sklearn***"
   ]
  },
  {
   "cell_type": "code",
   "execution_count": 29,
   "metadata": {},
   "outputs": [],
   "source": [
    "from sklearn.linear_model import LinearRegression\n",
    "model = LinearRegression().fit(X_train, y_train)"
   ]
  },
  {
   "cell_type": "code",
   "execution_count": 30,
   "metadata": {},
   "outputs": [],
   "source": [
    "y_hat = model.predict(X_val)"
   ]
  },
  {
   "cell_type": "markdown",
   "metadata": {},
   "source": [
    "#### ***Calculate** MSE*"
   ]
  },
  {
   "cell_type": "code",
   "execution_count": 38,
   "metadata": {},
   "outputs": [
    {
     "name": "stdout",
     "output_type": "stream",
     "text": [
      "5423284.49894194\n"
     ]
    }
   ],
   "source": [
    "print(np.sum(np.square(y_val - y_hat)) / y_hat.shape[0])"
   ]
  },
  {
   "cell_type": "markdown",
   "metadata": {},
   "source": [
    "#### ***Print** five samples and its actual value and predicted value*"
   ]
  },
  {
   "cell_type": "code",
   "execution_count": 37,
   "metadata": {},
   "outputs": [
    {
     "name": "stdout",
     "output_type": "stream",
     "text": [
      "Sample 1:\n",
      "Features [1.00000000e+00 0.00000000e+00 0.00000000e+00 0.00000000e+00\n",
      " 0.00000000e+00 0.00000000e+00 0.00000000e+00 0.00000000e+00\n",
      " 8.88997167e+00 0.00000000e+00 4.40000000e+01 1.00000000e+00\n",
      " 7.90315962e+01 7.02588651e+02 0.00000000e+00 0.00000000e+00\n",
      " 1.93600000e+03 8.51840000e+04]\n",
      "Actual y =13276.0\n",
      "Predicted y =11672.064906614258\n",
      "\n",
      "Sample 2:\n",
      "Features [0.00000000e+00 0.00000000e+00 1.00000000e+00 0.00000000e+00\n",
      " 0.00000000e+00 0.00000000e+00 0.00000000e+00 0.00000000e+00\n",
      " 9.14643658e+00 0.00000000e+00 5.05000000e+01 1.00000000e+00\n",
      " 8.36573021e+01 7.65166208e+02 0.00000000e+00 0.00000000e+00\n",
      " 2.55025000e+03 1.28787625e+05]\n",
      "Actual y =17868.0\n",
      "Predicted y =13772.209382810564\n",
      "\n",
      "Sample 3:\n",
      "Features [0.00000000e+00 0.00000000e+00 0.00000000e+00 0.00000000e+00\n",
      " 0.00000000e+00 0.00000000e+00 1.00000000e+00 0.00000000e+00\n",
      " 8.39070358e+00 8.00000000e-02 4.10000000e+01 0.00000000e+00\n",
      " 7.04039066e+01 5.90738311e+02 6.40000000e-03 5.12000000e-04\n",
      " 1.68100000e+03 6.89210000e+04]\n",
      "Actual y =2824.0\n",
      "Predicted y =680.4265051655093\n",
      "\n",
      "Sample 4:\n",
      "Features [0.00000000e+00 0.00000000e+00 0.00000000e+00 1.00000000e+00\n",
      " 0.00000000e+00 0.00000000e+00 0.00000000e+00 0.00000000e+00\n",
      " 1.57245122e+01 0.00000000e+00 6.85000000e+01 1.00000000e+00\n",
      " 2.47260285e+02 3.88804739e+03 0.00000000e+00 0.00000000e+00\n",
      " 4.69225000e+03 3.21419125e+05]\n",
      "Actual y =23980.0\n",
      "Predicted y =18592.98404664167\n",
      "\n",
      "Sample 5:\n",
      "Features [0.00000000e+00 0.00000000e+00 0.00000000e+00 0.00000000e+00\n",
      " 0.00000000e+00 0.00000000e+00 1.00000000e+00 0.00000000e+00\n",
      " 1.04623909e+01 1.50000000e-01 5.70000000e+01 0.00000000e+00\n",
      " 1.09461624e+02 1.14523030e+03 2.25000000e-02 3.37500000e-03\n",
      " 3.24900000e+03 1.85193000e+05]\n",
      "Actual y =3348.0\n",
      "Predicted y =4903.44706531585\n",
      "\n"
     ]
    }
   ],
   "source": [
    "# This 5 sample and it actual value and predicted value\n",
    "for i in range(min(5, len(y_pred))):\n",
    "  print(f'Sample {i + 1}:\\nFeatures {X_val[i]}\\nActual y ={y_val[i]}\\nPredicted y ={y_hat[i]}\\n')"
   ]
  }
 ],
 "metadata": {
  "kernelspec": {
   "display_name": "Python 3",
   "language": "python",
   "name": "python3"
  },
  "language_info": {
   "codemirror_mode": {
    "name": "ipython",
    "version": 3
   },
   "file_extension": ".py",
   "mimetype": "text/x-python",
   "name": "python",
   "nbconvert_exporter": "python",
   "pygments_lexer": "ipython3",
   "version": "3.12.0"
  }
 },
 "nbformat": 4,
 "nbformat_minor": 2
}
